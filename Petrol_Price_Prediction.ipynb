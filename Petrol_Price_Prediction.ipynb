{
  "cells": [
    {
      "attachments": {},
      "cell_type": "markdown",
      "metadata": {
        "id": "qzbwAsKxCN2S"
      },
      "source": [
        "# Petrol Price Prediction"
      ]
    },
    {
      "attachments": {},
      "cell_type": "markdown",
      "metadata": {
        "id": "QJsjVoAmCSbu"
      },
      "source": [
        "Importing Libaries"
      ]
    },
    {
      "cell_type": "code",
      "execution_count": 1,
      "metadata": {
        "id": "pBHn2YQc-NJJ"
      },
      "outputs": [],
      "source": [
        "import numpy as np\n",
        "import pandas as pd\n",
        "import matplotlib.pyplot as plt\n",
        "import seaborn as sns\n",
        "from sklearn.model_selection import train_test_split\n",
        "from sklearn.ensemble import RandomForestRegressor\n",
        "from sklearn import metrics"
      ]
    },
    {
      "attachments": {},
      "cell_type": "markdown",
      "metadata": {
        "id": "h1-MD_yoChST"
      },
      "source": [
        "Data Collection and Processing"
      ]
    },
    {
      "cell_type": "code",
      "execution_count": 2,
      "metadata": {
        "id": "y6Ej_2RACjrq"
      },
      "outputs": [],
      "source": [
        "# Loading data from a csv\n",
        "usd_pkr = pd.read_csv('Datasets/PKR _ US$ Exchange Rates.csv')\n",
        "petrol_price = pd.read_csv('Datasets/Petrol Price.csv')"
      ]
    },
    {
      "cell_type": "code",
      "execution_count": 3,
      "metadata": {
        "colab": {
          "base_uri": "https://localhost:8080/",
          "height": 206
        },
        "id": "n07RyId0NPoQ",
        "outputId": "b9ffb8cf-88fc-4a76-cf56-9761ab606a06"
      },
      "outputs": [
        {
          "data": {
            "text/html": [
              "<div>\n",
              "<style scoped>\n",
              "    .dataframe tbody tr th:only-of-type {\n",
              "        vertical-align: middle;\n",
              "    }\n",
              "\n",
              "    .dataframe tbody tr th {\n",
              "        vertical-align: top;\n",
              "    }\n",
              "\n",
              "    .dataframe thead th {\n",
              "        text-align: right;\n",
              "    }\n",
              "</style>\n",
              "<table border=\"1\" class=\"dataframe\">\n",
              "  <thead>\n",
              "    <tr style=\"text-align: right;\">\n",
              "      <th></th>\n",
              "      <th>Weekly</th>\n",
              "      <th>Islamabad</th>\n",
              "      <th>Rawalpindi</th>\n",
              "      <th>Gujranwala</th>\n",
              "      <th>Sialkot</th>\n",
              "      <th>Lahore</th>\n",
              "      <th>Faisalabad</th>\n",
              "      <th>Sargodha</th>\n",
              "      <th>Multan</th>\n",
              "      <th>Bahawalpur</th>\n",
              "      <th>Karachi</th>\n",
              "      <th>Hyderabad</th>\n",
              "      <th>Sukkur</th>\n",
              "      <th>Larkana</th>\n",
              "      <th>Peshawar</th>\n",
              "      <th>Bannu</th>\n",
              "      <th>Quetta</th>\n",
              "      <th>Khuzdar</th>\n",
              "      <th>Pakistan</th>\n",
              "    </tr>\n",
              "  </thead>\n",
              "  <tbody>\n",
              "    <tr>\n",
              "      <th>0</th>\n",
              "      <td>26-Jul-2023</td>\n",
              "      <td>253.73</td>\n",
              "      <td>253.73</td>\n",
              "      <td>253.8</td>\n",
              "      <td>253.91</td>\n",
              "      <td>253.74</td>\n",
              "      <td>253.7</td>\n",
              "      <td>253.98</td>\n",
              "      <td>253.76</td>\n",
              "      <td>254.25</td>\n",
              "      <td>253.74</td>\n",
              "      <td>254.88</td>\n",
              "      <td>253.8</td>\n",
              "      <td>254.03</td>\n",
              "      <td>253.80</td>\n",
              "      <td>255.2</td>\n",
              "      <td>253.6</td>\n",
              "      <td>253.75</td>\n",
              "      <td>253.96</td>\n",
              "    </tr>\n",
              "    <tr>\n",
              "      <th>1</th>\n",
              "      <td>20-Jul-2023</td>\n",
              "      <td>253.73</td>\n",
              "      <td>253.73</td>\n",
              "      <td>253.8</td>\n",
              "      <td>253.91</td>\n",
              "      <td>253.74</td>\n",
              "      <td>253.7</td>\n",
              "      <td>253.98</td>\n",
              "      <td>253.76</td>\n",
              "      <td>254.25</td>\n",
              "      <td>253.74</td>\n",
              "      <td>254.88</td>\n",
              "      <td>253.8</td>\n",
              "      <td>254.03</td>\n",
              "      <td>253.80</td>\n",
              "      <td>255.2</td>\n",
              "      <td>253.6</td>\n",
              "      <td>253.75</td>\n",
              "      <td>253.96</td>\n",
              "    </tr>\n",
              "    <tr>\n",
              "      <th>2</th>\n",
              "      <td>13-Jul-2023</td>\n",
              "      <td>262.75</td>\n",
              "      <td>262.76</td>\n",
              "      <td>262.8</td>\n",
              "      <td>262.90</td>\n",
              "      <td>262.78</td>\n",
              "      <td>262.7</td>\n",
              "      <td>262.98</td>\n",
              "      <td>262.79</td>\n",
              "      <td>263.23</td>\n",
              "      <td>262.74</td>\n",
              "      <td>263.87</td>\n",
              "      <td>262.8</td>\n",
              "      <td>263.10</td>\n",
              "      <td>262.75</td>\n",
              "      <td>262.8</td>\n",
              "      <td>262.6</td>\n",
              "      <td>262.79</td>\n",
              "      <td>262.89</td>\n",
              "    </tr>\n",
              "    <tr>\n",
              "      <th>3</th>\n",
              "      <td>06-Jul-2023</td>\n",
              "      <td>262.75</td>\n",
              "      <td>262.76</td>\n",
              "      <td>262.8</td>\n",
              "      <td>262.90</td>\n",
              "      <td>262.78</td>\n",
              "      <td>262.7</td>\n",
              "      <td>262.98</td>\n",
              "      <td>262.79</td>\n",
              "      <td>263.23</td>\n",
              "      <td>262.74</td>\n",
              "      <td>263.87</td>\n",
              "      <td>262.8</td>\n",
              "      <td>263.10</td>\n",
              "      <td>262.75</td>\n",
              "      <td>262.8</td>\n",
              "      <td>262.6</td>\n",
              "      <td>262.79</td>\n",
              "      <td>262.89</td>\n",
              "    </tr>\n",
              "    <tr>\n",
              "      <th>4</th>\n",
              "      <td>22-Jun-2023</td>\n",
              "      <td>262.75</td>\n",
              "      <td>262.76</td>\n",
              "      <td>262.8</td>\n",
              "      <td>262.90</td>\n",
              "      <td>262.78</td>\n",
              "      <td>262.7</td>\n",
              "      <td>262.98</td>\n",
              "      <td>262.79</td>\n",
              "      <td>263.23</td>\n",
              "      <td>262.74</td>\n",
              "      <td>263.87</td>\n",
              "      <td>262.8</td>\n",
              "      <td>263.10</td>\n",
              "      <td>262.75</td>\n",
              "      <td>262.8</td>\n",
              "      <td>262.6</td>\n",
              "      <td>262.79</td>\n",
              "      <td>262.89</td>\n",
              "    </tr>\n",
              "  </tbody>\n",
              "</table>\n",
              "</div>"
            ],
            "text/plain": [
              "        Weekly  Islamabad  Rawalpindi  Gujranwala  Sialkot  Lahore  \\\n",
              "0  26-Jul-2023     253.73      253.73       253.8   253.91  253.74   \n",
              "1  20-Jul-2023     253.73      253.73       253.8   253.91  253.74   \n",
              "2  13-Jul-2023     262.75      262.76       262.8   262.90  262.78   \n",
              "3  06-Jul-2023     262.75      262.76       262.8   262.90  262.78   \n",
              "4  22-Jun-2023     262.75      262.76       262.8   262.90  262.78   \n",
              "\n",
              "   Faisalabad  Sargodha  Multan  Bahawalpur  Karachi  Hyderabad  Sukkur  \\\n",
              "0       253.7    253.98  253.76      254.25   253.74     254.88   253.8   \n",
              "1       253.7    253.98  253.76      254.25   253.74     254.88   253.8   \n",
              "2       262.7    262.98  262.79      263.23   262.74     263.87   262.8   \n",
              "3       262.7    262.98  262.79      263.23   262.74     263.87   262.8   \n",
              "4       262.7    262.98  262.79      263.23   262.74     263.87   262.8   \n",
              "\n",
              "   Larkana  Peshawar  Bannu  Quetta  Khuzdar  Pakistan  \n",
              "0   254.03    253.80  255.2   253.6   253.75    253.96  \n",
              "1   254.03    253.80  255.2   253.6   253.75    253.96  \n",
              "2   263.10    262.75  262.8   262.6   262.79    262.89  \n",
              "3   263.10    262.75  262.8   262.6   262.79    262.89  \n",
              "4   263.10    262.75  262.8   262.6   262.79    262.89  "
            ]
          },
          "execution_count": 3,
          "metadata": {},
          "output_type": "execute_result"
        }
      ],
      "source": [
        "# Petrol Price\n",
        "petrol_price.head()"
      ]
    },
    {
      "cell_type": "code",
      "execution_count": 4,
      "metadata": {
        "colab": {
          "base_uri": "https://localhost:8080/",
          "height": 206
        },
        "id": "DDMO_qPsNW03",
        "outputId": "b8193d41-10a7-45a0-a193-c7bcd274c5ba"
      },
      "outputs": [
        {
          "data": {
            "text/html": [
              "<div>\n",
              "<style scoped>\n",
              "    .dataframe tbody tr th:only-of-type {\n",
              "        vertical-align: middle;\n",
              "    }\n",
              "\n",
              "    .dataframe tbody tr th {\n",
              "        vertical-align: top;\n",
              "    }\n",
              "\n",
              "    .dataframe thead th {\n",
              "        text-align: right;\n",
              "    }\n",
              "</style>\n",
              "<table border=\"1\" class=\"dataframe\">\n",
              "  <thead>\n",
              "    <tr style=\"text-align: right;\">\n",
              "      <th></th>\n",
              "      <th>Date</th>\n",
              "      <th>US$</th>\n",
              "    </tr>\n",
              "  </thead>\n",
              "  <tbody>\n",
              "    <tr>\n",
              "      <th>0</th>\n",
              "      <td>03-Aug-2023</td>\n",
              "      <td>287.2019</td>\n",
              "    </tr>\n",
              "    <tr>\n",
              "      <th>1</th>\n",
              "      <td>02-Aug-2023</td>\n",
              "      <td>289.3818</td>\n",
              "    </tr>\n",
              "    <tr>\n",
              "      <th>2</th>\n",
              "      <td>01-Aug-2023</td>\n",
              "      <td>287.5424</td>\n",
              "    </tr>\n",
              "    <tr>\n",
              "      <th>3</th>\n",
              "      <td>31-Jul-2023</td>\n",
              "      <td>286.6416</td>\n",
              "    </tr>\n",
              "    <tr>\n",
              "      <th>4</th>\n",
              "      <td>27-Jul-2023</td>\n",
              "      <td>286.4521</td>\n",
              "    </tr>\n",
              "  </tbody>\n",
              "</table>\n",
              "</div>"
            ],
            "text/plain": [
              "          Date      US$ \n",
              "0  03-Aug-2023  287.2019\n",
              "1  02-Aug-2023  289.3818\n",
              "2  01-Aug-2023  287.5424\n",
              "3  31-Jul-2023  286.6416\n",
              "4  27-Jul-2023  286.4521"
            ]
          },
          "execution_count": 4,
          "metadata": {},
          "output_type": "execute_result"
        }
      ],
      "source": [
        "# USD - PKR\n",
        "usd_pkr.head()"
      ]
    },
    {
      "cell_type": "code",
      "execution_count": null,
      "metadata": {
        "colab": {
          "base_uri": "https://localhost:8080/"
        },
        "id": "mq8VtDN8NoDe",
        "outputId": "c8189361-1d32-4da7-eecc-a6a6a706e9ef"
      },
      "outputs": [],
      "source": [
        "# Merging datasets with required values\n",
        "# Fixing the date problem\n",
        "usd_pkr[\"Date\"] = pd.to_datetime(usd_pkr['Date'])\n",
        "petrol_price['Weekly'] = pd.to_datetime(petrol_price['Weekly'])\n",
        "\n",
        "usd_pkr[\"Petrol_Price\"] = usd_pkr[\"Date\"].apply(lambda date: petrol_price.loc[petrol_price[\"Weekly\"].sub(date).abs().idxmin(), \"Karachi\"])\n",
        "usd_pkr['Petrol_Price'][:3] = 273.95\n",
        "\n",
        "petrol_price_pred = pd.DataFrame(usd_pkr)"
      ]
    },
    {
      "cell_type": "code",
      "execution_count": 6,
      "metadata": {
        "colab": {
          "base_uri": "https://localhost:8080/",
          "height": 206
        },
        "id": "Yy4KSrfWVsHq",
        "outputId": "7d88ae43-8ec8-49ec-9745-12ed231e38f4"
      },
      "outputs": [
        {
          "data": {
            "text/html": [
              "<div>\n",
              "<style scoped>\n",
              "    .dataframe tbody tr th:only-of-type {\n",
              "        vertical-align: middle;\n",
              "    }\n",
              "\n",
              "    .dataframe tbody tr th {\n",
              "        vertical-align: top;\n",
              "    }\n",
              "\n",
              "    .dataframe thead th {\n",
              "        text-align: right;\n",
              "    }\n",
              "</style>\n",
              "<table border=\"1\" class=\"dataframe\">\n",
              "  <thead>\n",
              "    <tr style=\"text-align: right;\">\n",
              "      <th></th>\n",
              "      <th>Date</th>\n",
              "      <th>US$</th>\n",
              "      <th>Petrol_Price</th>\n",
              "    </tr>\n",
              "  </thead>\n",
              "  <tbody>\n",
              "    <tr>\n",
              "      <th>0</th>\n",
              "      <td>2023-08-03</td>\n",
              "      <td>287.2019</td>\n",
              "      <td>273.95</td>\n",
              "    </tr>\n",
              "    <tr>\n",
              "      <th>1</th>\n",
              "      <td>2023-08-02</td>\n",
              "      <td>289.3818</td>\n",
              "      <td>273.95</td>\n",
              "    </tr>\n",
              "    <tr>\n",
              "      <th>2</th>\n",
              "      <td>2023-08-01</td>\n",
              "      <td>287.5424</td>\n",
              "      <td>273.95</td>\n",
              "    </tr>\n",
              "    <tr>\n",
              "      <th>3</th>\n",
              "      <td>2023-07-31</td>\n",
              "      <td>286.6416</td>\n",
              "      <td>253.74</td>\n",
              "    </tr>\n",
              "    <tr>\n",
              "      <th>4</th>\n",
              "      <td>2023-07-27</td>\n",
              "      <td>286.4521</td>\n",
              "      <td>253.74</td>\n",
              "    </tr>\n",
              "  </tbody>\n",
              "</table>\n",
              "</div>"
            ],
            "text/plain": [
              "        Date      US$   Petrol_Price\n",
              "0 2023-08-03  287.2019        273.95\n",
              "1 2023-08-02  289.3818        273.95\n",
              "2 2023-08-01  287.5424        273.95\n",
              "3 2023-07-31  286.6416        253.74\n",
              "4 2023-07-27  286.4521        253.74"
            ]
          },
          "execution_count": 6,
          "metadata": {},
          "output_type": "execute_result"
        }
      ],
      "source": [
        "# Merged Data Frame\n",
        "petrol_price_pred.head()"
      ]
    },
    {
      "cell_type": "code",
      "execution_count": 7,
      "metadata": {
        "colab": {
          "base_uri": "https://localhost:8080/"
        },
        "id": "2mJTRBm7Go-1",
        "outputId": "48e683c5-63ed-42fe-ae6e-52a163b70ddc"
      },
      "outputs": [
        {
          "name": "stdout",
          "output_type": "stream",
          "text": [
            "<class 'pandas.core.frame.DataFrame'>\n",
            "RangeIndex: 1979 entries, 0 to 1978\n",
            "Data columns (total 3 columns):\n",
            " #   Column        Non-Null Count  Dtype         \n",
            "---  ------        --------------  -----         \n",
            " 0   Date          1979 non-null   datetime64[ns]\n",
            " 1   US$           1979 non-null   float64       \n",
            " 2   Petrol_Price  1979 non-null   float64       \n",
            "dtypes: datetime64[ns](1), float64(2)\n",
            "memory usage: 46.5 KB\n"
          ]
        }
      ],
      "source": [
        "# Checking the info\n",
        "petrol_price_pred.info()"
      ]
    },
    {
      "cell_type": "code",
      "execution_count": 8,
      "metadata": {
        "colab": {
          "base_uri": "https://localhost:8080/"
        },
        "id": "8d5W70lsJkU8",
        "outputId": "525ffab7-dfb6-4286-aaaa-9ce631cf0776"
      },
      "outputs": [
        {
          "data": {
            "text/plain": [
              "Date            0\n",
              "US$             0\n",
              "Petrol_Price    0\n",
              "dtype: int64"
            ]
          },
          "execution_count": 8,
          "metadata": {},
          "output_type": "execute_result"
        }
      ],
      "source": [
        "# Checking missing values\n",
        "petrol_price_pred.isnull().sum()"
      ]
    },
    {
      "cell_type": "code",
      "execution_count": 9,
      "metadata": {
        "colab": {
          "base_uri": "https://localhost:8080/",
          "height": 300
        },
        "id": "OWSAEc1gJqGy",
        "outputId": "403f0799-c83d-4685-c6be-03d52597a2a6"
      },
      "outputs": [
        {
          "data": {
            "text/html": [
              "<div>\n",
              "<style scoped>\n",
              "    .dataframe tbody tr th:only-of-type {\n",
              "        vertical-align: middle;\n",
              "    }\n",
              "\n",
              "    .dataframe tbody tr th {\n",
              "        vertical-align: top;\n",
              "    }\n",
              "\n",
              "    .dataframe thead th {\n",
              "        text-align: right;\n",
              "    }\n",
              "</style>\n",
              "<table border=\"1\" class=\"dataframe\">\n",
              "  <thead>\n",
              "    <tr style=\"text-align: right;\">\n",
              "      <th></th>\n",
              "      <th>Date</th>\n",
              "      <th>US$</th>\n",
              "      <th>Petrol_Price</th>\n",
              "    </tr>\n",
              "  </thead>\n",
              "  <tbody>\n",
              "    <tr>\n",
              "      <th>count</th>\n",
              "      <td>1979</td>\n",
              "      <td>1979.000000</td>\n",
              "      <td>1979.000000</td>\n",
              "    </tr>\n",
              "    <tr>\n",
              "      <th>mean</th>\n",
              "      <td>2019-07-15 03:05:32.895401728</td>\n",
              "      <td>151.339956</td>\n",
              "      <td>116.960045</td>\n",
              "    </tr>\n",
              "    <tr>\n",
              "      <th>min</th>\n",
              "      <td>2015-07-02 00:00:00</td>\n",
              "      <td>101.702500</td>\n",
              "      <td>64.480000</td>\n",
              "    </tr>\n",
              "    <tr>\n",
              "      <th>25%</th>\n",
              "      <td>2017-07-08 12:00:00</td>\n",
              "      <td>105.397800</td>\n",
              "      <td>74.940000</td>\n",
              "    </tr>\n",
              "    <tr>\n",
              "      <th>50%</th>\n",
              "      <td>2019-07-15 00:00:00</td>\n",
              "      <td>153.331800</td>\n",
              "      <td>99.360000</td>\n",
              "    </tr>\n",
              "    <tr>\n",
              "      <th>75%</th>\n",
              "      <td>2021-07-24 12:00:00</td>\n",
              "      <td>167.347050</td>\n",
              "      <td>118.590000</td>\n",
              "    </tr>\n",
              "    <tr>\n",
              "      <th>max</th>\n",
              "      <td>2023-08-03 00:00:00</td>\n",
              "      <td>298.931800</td>\n",
              "      <td>282.790000</td>\n",
              "    </tr>\n",
              "    <tr>\n",
              "      <th>std</th>\n",
              "      <td>NaN</td>\n",
              "      <td>48.684358</td>\n",
              "      <td>57.800388</td>\n",
              "    </tr>\n",
              "  </tbody>\n",
              "</table>\n",
              "</div>"
            ],
            "text/plain": [
              "                                Date         US$   Petrol_Price\n",
              "count                           1979  1979.000000   1979.000000\n",
              "mean   2019-07-15 03:05:32.895401728   151.339956    116.960045\n",
              "min              2015-07-02 00:00:00   101.702500     64.480000\n",
              "25%              2017-07-08 12:00:00   105.397800     74.940000\n",
              "50%              2019-07-15 00:00:00   153.331800     99.360000\n",
              "75%              2021-07-24 12:00:00   167.347050    118.590000\n",
              "max              2023-08-03 00:00:00   298.931800    282.790000\n",
              "std                              NaN    48.684358     57.800388"
            ]
          },
          "execution_count": 9,
          "metadata": {},
          "output_type": "execute_result"
        }
      ],
      "source": [
        "# Checking the statistics\n",
        "petrol_price_pred.describe()"
      ]
    },
    {
      "attachments": {},
      "cell_type": "markdown",
      "metadata": {
        "id": "XNq2_qGDKKxF"
      },
      "source": [
        "Correlation\n",
        "\n",
        "1.   Positive Correlation\n",
        "2.   Negative Correlation\n",
        "\n"
      ]
    },
    {
      "cell_type": "code",
      "execution_count": 20,
      "metadata": {
        "colab": {
          "base_uri": "https://localhost:8080/",
          "height": 730
        },
        "id": "yN1lFaEyJ_Wi",
        "outputId": "5e17a51d-2828-4d34-b4e8-56639c5fd713"
      },
      "outputs": [
        {
          "data": {
            "text/plain": [
              "<Axes: >"
            ]
          },
          "execution_count": 20,
          "metadata": {},
          "output_type": "execute_result"
        },
        {
          "data": {
            "image/png": "[encoded data removed]",
            "text/plain": [
              "<Figure size 800x800 with 2 Axes>"
            ]
          },
          "metadata": {},
          "output_type": "display_data"
        }
      ],
      "source": [
        "# Finding the correlation\n",
        "correlation = petrol_price_pred.corr()\n",
        "\n",
        "# constructing heatmap\n",
        "plt.figure(figsize = (8,8))\n",
        "sns.heatmap(correlation, cbar=True, square=True, fmt='.1f', annot=True, annot_kws={'size':8}, cmap='Reds')"
      ]
    },
    {
      "cell_type": "code",
      "execution_count": 11,
      "metadata": {
        "colab": {
          "base_uri": "https://localhost:8080/"
        },
        "id": "yCC3TUC1LYCu",
        "outputId": "c300700e-38ec-4cbd-cf8c-984a7609192e"
      },
      "outputs": [
        {
          "name": "stdout",
          "output_type": "stream",
          "text": [
            "Date            0.833385\n",
            "US$             0.955785\n",
            "Petrol_Price    1.000000\n",
            "Name: Petrol_Price, dtype: float64\n"
          ]
        }
      ],
      "source": [
        "# Correlation Values of Petrol\n",
        "print(correlation['Petrol_Price'])"
      ]
    },
    {
      "cell_type": "code",
      "execution_count": null,
      "metadata": {
        "colab": {
          "base_uri": "https://localhost:8080/",
          "height": 658
        },
        "id": "nvI4v3jsWzFM",
        "outputId": "d6b7cf05-d6f9-4ced-9a70-f5616a4c2fed"
      },
      "outputs": [],
      "source": [
        "# Checking the distribution\n",
        "sns.distplot(petrol_price_pred['Petrol_Price'], color='Red')"
      ]
    },
    {
      "attachments": {},
      "cell_type": "markdown",
      "metadata": {
        "id": "cpXWS2uNaGwt"
      },
      "source": [
        "Splitting the Features and Targets"
      ]
    },
    {
      "cell_type": "code",
      "execution_count": 13,
      "metadata": {
        "colab": {
          "base_uri": "https://localhost:8080/"
        },
        "id": "ZR06xzdFXJNa",
        "outputId": "09d2eb2d-1b32-40b1-b6ff-0abe7cf66289"
      },
      "outputs": [
        {
          "name": "stdout",
          "output_type": "stream",
          "text": [
            "          US$ \n",
            "0     287.2019\n",
            "1     289.3818\n",
            "2     287.5424\n",
            "3     286.6416\n",
            "4     286.4521\n",
            "...        ...\n",
            "1974  101.7589\n",
            "1975  101.7809\n",
            "1976  101.7910\n",
            "1977  101.7474\n",
            "1978  101.7587\n",
            "\n",
            "[1979 rows x 1 columns] 0       273.95\n",
            "1       273.95\n",
            "2       273.95\n",
            "3       253.74\n",
            "4       253.74\n",
            "         ...  \n",
            "1974     78.06\n",
            "1975     78.06\n",
            "1976     78.06\n",
            "1977     78.06\n",
            "1978     78.06\n",
            "Name: Petrol_Price, Length: 1979, dtype: float64\n"
          ]
        }
      ],
      "source": [
        "X = petrol_price_pred.drop(['Date', 'Petrol_Price'], axis=1)\n",
        "Y = petrol_price_pred['Petrol_Price']\n",
        "\n",
        "print(X, Y)"
      ]
    },
    {
      "attachments": {},
      "cell_type": "markdown",
      "metadata": {
        "id": "c0Ko3XWJHbEf"
      },
      "source": [
        "Splitting into training and test data"
      ]
    },
    {
      "cell_type": "code",
      "execution_count": 14,
      "metadata": {
        "colab": {
          "base_uri": "https://localhost:8080/",
          "height": 75
        },
        "id": "3IOzc_Kvaznd",
        "outputId": "1f8a7a4e-20e3-490c-e8fe-d238d6c637b6"
      },
      "outputs": [
        {
          "data": {
            "text/html": [
              "<style>#sk-container-id-1 {color: black;}#sk-container-id-1 pre{padding: 0;}#sk-container-id-1 div.sk-toggleable {background-color: white;}#sk-container-id-1 label.sk-toggleable__label {cursor: pointer;display: block;width: 100%;margin-bottom: 0;padding: 0.3em;box-sizing: border-box;text-align: center;}#sk-container-id-1 label.sk-toggleable__label-arrow:before {content: \"▸\";float: left;margin-right: 0.25em;color: #696969;}#sk-container-id-1 label.sk-toggleable__label-arrow:hover:before {color: black;}#sk-container-id-1 div.sk-estimator:hover label.sk-toggleable__label-arrow:before {color: black;}#sk-container-id-1 div.sk-toggleable__content {max-height: 0;max-width: 0;overflow: hidden;text-align: left;background-color: #f0f8ff;}#sk-container-id-1 div.sk-toggleable__content pre {margin: 0.2em;color: black;border-radius: 0.25em;background-color: #f0f8ff;}#sk-container-id-1 input.sk-toggleable__control:checked~div.sk-toggleable__content {max-height: 200px;max-width: 100%;overflow: auto;}#sk-container-id-1 input.sk-toggleable__control:checked~label.sk-toggleable__label-arrow:before {content: \"▾\";}#sk-container-id-1 div.sk-estimator input.sk-toggleable__control:checked~label.sk-toggleable__label {background-color: #d4ebff;}#sk-container-id-1 div.sk-label input.sk-toggleable__control:checked~label.sk-toggleable__label {background-color: #d4ebff;}#sk-container-id-1 input.sk-hidden--visually {border: 0;clip: rect(1px 1px 1px 1px);clip: rect(1px, 1px, 1px, 1px);height: 1px;margin: -1px;overflow: hidden;padding: 0;position: absolute;width: 1px;}#sk-container-id-1 div.sk-estimator {font-family: monospace;background-color: #f0f8ff;border: 1px dotted black;border-radius: 0.25em;box-sizing: border-box;margin-bottom: 0.5em;}#sk-container-id-1 div.sk-estimator:hover {background-color: #d4ebff;}#sk-container-id-1 div.sk-parallel-item::after {content: \"\";width: 100%;border-bottom: 1px solid gray;flex-grow: 1;}#sk-container-id-1 div.sk-label:hover label.sk-toggleable__label {background-color: #d4ebff;}#sk-container-id-1 div.sk-serial::before {content: \"\";position: absolute;border-left: 1px solid gray;box-sizing: border-box;top: 0;bottom: 0;left: 50%;z-index: 0;}#sk-container-id-1 div.sk-serial {display: flex;flex-direction: column;align-items: center;background-color: white;padding-right: 0.2em;padding-left: 0.2em;position: relative;}#sk-container-id-1 div.sk-item {position: relative;z-index: 1;}#sk-container-id-1 div.sk-parallel {display: flex;align-items: stretch;justify-content: center;background-color: white;position: relative;}#sk-container-id-1 div.sk-item::before, #sk-container-id-1 div.sk-parallel-item::before {content: \"\";position: absolute;border-left: 1px solid gray;box-sizing: border-box;top: 0;bottom: 0;left: 50%;z-index: -1;}#sk-container-id-1 div.sk-parallel-item {display: flex;flex-direction: column;z-index: 1;position: relative;background-color: white;}#sk-container-id-1 div.sk-parallel-item:first-child::after {align-self: flex-end;width: 50%;}#sk-container-id-1 div.sk-parallel-item:last-child::after {align-self: flex-start;width: 50%;}#sk-container-id-1 div.sk-parallel-item:only-child::after {width: 0;}#sk-container-id-1 div.sk-dashed-wrapped {border: 1px dashed gray;margin: 0 0.4em 0.5em 0.4em;box-sizing: border-box;padding-bottom: 0.4em;background-color: white;}#sk-container-id-1 div.sk-label label {font-family: monospace;font-weight: bold;display: inline-block;line-height: 1.2em;}#sk-container-id-1 div.sk-label-container {text-align: center;}#sk-container-id-1 div.sk-container {/* jupyter's `normalize.less` sets `[hidden] { display: none; }` but bootstrap.min.css set `[hidden] { display: none !important; }` so we also need the `!important` here to be able to override the default hidden behavior on the sphinx rendered scikit-learn.org. See: https://github.com/scikit-learn/scikit-learn/issues/21755 */display: inline-block !important;position: relative;}#sk-container-id-1 div.sk-text-repr-fallback {display: none;}</style><div id=\"sk-container-id-1\" class=\"sk-top-container\"><div class=\"sk-text-repr-fallback\"><pre>RandomForestRegressor()</pre><b>In a Jupyter environment, please rerun this cell to show the HTML representation or trust the notebook. <br />On GitHub, the HTML representation is unable to render, please try loading this page with nbviewer.org.</b></div><div class=\"sk-container\" hidden><div class=\"sk-item\"><div class=\"sk-estimator sk-toggleable\"><input class=\"sk-toggleable__control sk-hidden--visually\" id=\"sk-estimator-id-1\" type=\"checkbox\" checked><label for=\"sk-estimator-id-1\" class=\"sk-toggleable__label sk-toggleable__label-arrow\">RandomForestRegressor</label><div class=\"sk-toggleable__content\"><pre>RandomForestRegressor()</pre></div></div></div></div></div>"
            ],
            "text/plain": [
              "RandomForestRegressor()"
            ]
          },
          "execution_count": 14,
          "metadata": {},
          "output_type": "execute_result"
        }
      ],
      "source": [
        "# Training Data\n",
        "X_train, X_test, Y_train, Y_test = train_test_split(X, Y, test_size=0.2, random_state=2)\n",
        "\n",
        "# Model Training\n",
        "regressor = RandomForestRegressor(n_estimators=100)\n",
        "regressor.fit(X_train, Y_train)"
      ]
    },
    {
      "attachments": {},
      "cell_type": "markdown",
      "metadata": {
        "id": "sQeuZiV_I3V6"
      },
      "source": [
        "Model Evaluation"
      ]
    },
    {
      "cell_type": "code",
      "execution_count": 15,
      "metadata": {
        "colab": {
          "base_uri": "https://localhost:8080/"
        },
        "id": "8nSaPrcGIFBs",
        "outputId": "ac5db193-9c70-4e8d-c718-5e658f166ab7"
      },
      "outputs": [
        {
          "data": {
            "text/plain": [
              "array([ 71.3792    , 116.066     ,  65.9626    , 113.76      ,\n",
              "       116.2152    , 110.5399    ,  88.428     , 113.5244    ,\n",
              "        76.4273    ,  71.59      ,  99.3031    , 123.79      ,\n",
              "        65.7508    ,  70.3067    , 115.022     , 110.9835    ,\n",
              "        72.57      ,  74.8009    ,  74.5713    , 112.9002    ,\n",
              "        76.48407833,  99.67      , 155.2564    , 114.2846    ,\n",
              "        69.66925671,  76.1673    , 110.713     ,  87.06333333,\n",
              "        76.45120476,  76.3515    , 112.1335    ,  65.58136   ,\n",
              "        93.4628    ,  77.4358    ,  91.69      , 116.3792    ,\n",
              "       150.36      , 100.2168    , 110.2362    ,  92.9094    ,\n",
              "        77.89      , 272.75      ,  73.0849    ,  94.7113    ,\n",
              "        71.2676    , 112.5553    ,  87.9372    , 113.9677    ,\n",
              "        71.2568    , 270.257     , 127.79      ,  95.6559    ,\n",
              "        76.5901    ,  72.1147    ,  70.4828    , 272.75      ,\n",
              "        84.6618    ,  73.2525    , 100.5714    , 104.0959    ,\n",
              "        87.8922    , 112.6859    ,  88.1232    , 141.6282    ,\n",
              "        74.04      , 239.3869    ,  70.0928    ,  64.79299333,\n",
              "       149.7251    ,  72.57      ,  72.171525  ,  82.3672    ,\n",
              "       150.1164    , 155.3031    ,  71.086     , 113.7467    ,\n",
              "        65.0448    , 223.8452    ,  82.0841    ,  64.5506    ,\n",
              "       103.8429    ,  65.9124    ,  68.95772333,  87.7032    ,\n",
              "       123.2104    , 232.4352    , 278.4519    , 146.7046    ,\n",
              "       147.5654    ,  75.1088    ,  99.246     ,  74.04      ,\n",
              "       102.6755    ,  84.93      , 226.2228    , 115.7466    ,\n",
              "        95.6559    ,  77.295     ,  68.7886    ,  96.2118    ,\n",
              "        88.14      ,  70.7745    , 110.6929    , 105.5012    ,\n",
              "       265.2355    ,  67.1946    ,  72.3568    , 222.036     ,\n",
              "       251.1675    , 234.4423    ,  74.74      ,  72.4388    ,\n",
              "       123.79      , 116.5306    , 117.11      , 111.4754    ,\n",
              "        65.892     ,  77.0706    , 113.76      ,  71.192     ,\n",
              "        77.89      , 106.3127    ,  93.4855    , 114.6012    ,\n",
              "        68.5448    ,  71.086     ,  97.4684    , 129.0118    ,\n",
              "        93.27      ,  87.32268   , 102.7059    , 117.11      ,\n",
              "       116.5589    ,  77.4195    ,  76.4087    , 238.7897    ,\n",
              "       110.2362    , 225.55      ,  70.89058571, 104.4898    ,\n",
              "       104.8627    , 112.5553    ,  92.6828    ,  88.1232    ,\n",
              "       113.3194    , 227.6384    , 112.598     , 147.196     ,\n",
              "        71.78      ,  72.57      ,  66.2964    ,  93.27      ,\n",
              "       115.0248    ,  77.4358    ,  98.24      , 116.3531    ,\n",
              "       104.47      ,  65.9626    , 234.4355    ,  83.1718    ,\n",
              "       115.022     ,  70.3132    , 100.312     ,  95.68      ,\n",
              "        88.4384    , 111.7048    , 226.3312    ,  69.986     ,\n",
              "        71.99      , 113.1375    ,  76.1753    ,  74.2431    ,\n",
              "        65.04833   ,  74.04      , 109.2153    ,  73.4308    ,\n",
              "       150.36      , 103.9737    ,  94.44378476,  68.6092    ,\n",
              "        70.0221    , 271.5327    ,  93.27      , 225.55      ,\n",
              "       225.5732    , 102.5016    , 109.3764    , 277.5804    ,\n",
              "       105.5352    , 113.0462    ,  69.422     , 218.0104    ,\n",
              "        73.9444    ,  65.9284    , 141.9704    ,  64.5506    ,\n",
              "        93.9161    , 238.1925    , 107.4492    ,  67.2052    ,\n",
              "       158.7642    , 114.9751    , 146.7429    , 250.5       ,\n",
              "       103.859     ,  83.2506281 , 114.8706    , 105.09      ,\n",
              "       108.1109    , 104.47      ,  72.36533333, 103.4634    ,\n",
              "        95.68      , 149.5502    ,  73.077     , 225.6428    ,\n",
              "       258.456     , 113.6838    , 107.7728    ,  72.57      ,\n",
              "       117.7613    , 243.5673    , 117.11      ,  75.5212    ,\n",
              "        64.48      ,  93.3423    , 150.36      , 226.7444    ,\n",
              "       117.11      ,  69.67268048,  70.0817    ,  74.659     ,\n",
              "       113.5153    , 225.55      ,  92.7778    , 218.0104    ,\n",
              "        64.5709    ,  82.3672    ,  97.3973    , 272.9704    ,\n",
              "        77.193     ,  97.3973    ,  95.6559    , 282.4894    ,\n",
              "       110.4293    ,  86.2188    , 114.4154    , 250.5       ,\n",
              "        93.993     , 274.8148    , 281.9884    ,  67.341     ,\n",
              "       150.36      ,  71.444     ,  64.5506    , 155.4334    ,\n",
              "        75.7172    ,  74.04      , 271.5973    , 151.8609    ,\n",
              "        69.67268048,  64.59728333, 194.1819    , 117.11      ,\n",
              "       235.4716    , 105.7974    ,  88.428     , 217.987     ,\n",
              "       226.0392    ,  96.26      , 110.2924    ,  71.78      ,\n",
              "       269.6633    ,  93.27      ,  69.8255    ,  71.502425  ,\n",
              "        91.5608    , 234.4355    , 264.0439    ,  77.3868    ,\n",
              "        74.659     ,  76.1673    ,  85.8818    , 270.257     ,\n",
              "       114.8393    ,  86.2546    ,  92.645     , 109.49      ,\n",
              "        93.27      , 150.1164    , 127.79      , 244.1645    ,\n",
              "        74.04      ,  66.3156    , 117.11      , 104.2417    ,\n",
              "       112.5493    ,  64.6918    , 109.269     ,  64.90187143,\n",
              "        92.6812    , 106.8485    , 261.8833    , 112.0574    ,\n",
              "       112.0074    , 112.966     ,  81.2392    , 117.0298    ,\n",
              "       157.8675    ,  98.24      , 113.125     ,  65.64176667,\n",
              "        71.3792    , 265.4584    ,  71.59      , 117.11      ,\n",
              "        93.9161    , 105.7342    ,  84.8108    ,  72.5869    ,\n",
              "       112.4425    , 114.8947    ,  71.502425  , 102.7038    ,\n",
              "        75.0301    , 232.5468    ,  88.1232    , 111.777     ,\n",
              "       104.0052    ,  78.7401    ,  71.4397    ,  73.1796    ,\n",
              "       111.1206    , 113.76      ,  72.0614    , 107.7807    ,\n",
              "        65.969     , 282.6898    , 226.2228    , 278.4519    ,\n",
              "        64.6024    , 114.8393    ,  93.27      ,  97.8921    ,\n",
              "        72.6545    , 232.926     , 235.377     ,  88.4026    ,\n",
              "       225.6572    ,  70.456     ,  98.24      ,  64.5506    ,\n",
              "        94.0163    , 265.6505    , 141.33      ,  88.08904   ,\n",
              "       112.4446    , 111.1726    , 113.0462    , 108.9228    ,\n",
              "       114.7169    ,  74.748     ,  92.39      , 278.1614    ,\n",
              "        99.67      , 113.6838    , 226.0392    ,  69.48261   ,\n",
              "        87.737     , 113.0827    ,  69.66925671,  71.2568    ,\n",
              "        76.54      ,  66.0332    , 109.1932    ,  98.7303    ,\n",
              "       148.3989    , 109.7184    , 130.6167    ,  99.5504    ,\n",
              "       111.949     ,  76.40519143, 116.3531    , 113.0611    ,\n",
              "        74.04      , 147.5762    ,  82.0841    ,  91.2614    ,\n",
              "        69.986     ,  94.51608476,  98.24      ,  70.81468571,\n",
              "       150.36      , 104.1548    ,  77.4476    ,  70.3067    ])"
            ]
          },
          "execution_count": 15,
          "metadata": {},
          "output_type": "execute_result"
        }
      ],
      "source": [
        "# Prediction on test data\n",
        "test_data_pred = regressor.predict(X_test)\n",
        "test_data_pred"
      ]
    },
    {
      "cell_type": "code",
      "execution_count": 16,
      "metadata": {
        "colab": {
          "base_uri": "https://localhost:8080/"
        },
        "id": "nl0G0RR0I09O",
        "outputId": "a5798b1f-4d03-438e-cba5-881430aaf52d"
      },
      "outputs": [
        {
          "name": "stdout",
          "output_type": "stream",
          "text": [
            "R-squared error:  0.9783003876788409\n"
          ]
        }
      ],
      "source": [
        "# R-squared Error\n",
        "error_score = metrics.r2_score(Y_test, test_data_pred)\n",
        "print('R-squared error: ', error_score)"
      ]
    },
    {
      "attachments": {},
      "cell_type": "markdown",
      "metadata": {
        "id": "AyGuakZyKDaC"
      },
      "source": [
        "Comparing the actual values with predicted values in a Plot"
      ]
    },
    {
      "cell_type": "code",
      "execution_count": 19,
      "metadata": {
        "colab": {
          "base_uri": "https://localhost:8080/",
          "height": 472
        },
        "id": "XDW1bWgjJwCJ",
        "outputId": "ab0e6c84-a24c-45fc-8bec-bf666d3fc7d5"
      },
      "outputs": [
        {
          "data": {
            "image/png": "[encoded data removed]",
            "text/plain": [
              "<Figure size 640x480 with 1 Axes>"
            ]
          },
          "metadata": {},
          "output_type": "display_data"
        }
      ],
      "source": [
        "# Converting to a list\n",
        "Y_test = list(Y_test)\n",
        "\n",
        "# Time to plot\n",
        "plt.plot(Y_test, color='Blue', label='Actual Value')\n",
        "plt.plot(test_data_pred, color='Green', label='Predicted Value')\n",
        "plt.title('Acutal Price VS Predicted Price')\n",
        "plt.xlabel('No. of values')\n",
        "plt.ylabel('Petrol Price')\n",
        "plt.legend()\n",
        "plt.show()"
      ]
    },
    {
      "cell_type": "code",
      "execution_count": null,
      "metadata": {
        "id": "3J1zlc2IKwRi"
      },
      "outputs": [],
      "source": []
    }
  ],
  "metadata": {
    "colab": {
      "provenance": []
    },
    "kernelspec": {
      "display_name": "Python 3",
      "name": "python3"
    },
    "language_info": {
      "codemirror_mode": {
        "name": "ipython",
        "version": 3
      },
      "file_extension": ".py",
      "mimetype": "text/x-python",
      "name": "python",
      "nbconvert_exporter": "python",
      "pygments_lexer": "ipython3",
      "version": "3.10.6"
    }
  },
  "nbformat": 4,
  "nbformat_minor": 0
}
