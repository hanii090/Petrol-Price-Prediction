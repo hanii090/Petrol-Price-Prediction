{
  "cells": [
    {
      "attachments": {},
      "cell_type": "markdown",
      "metadata": {
        "id": "qzbwAsKxCN2S"
      },
      "source": [
        "# Dollar Price Prediction"
      ]
    },
    {
      "attachments": {},
      "cell_type": "markdown",
      "metadata": {
        "id": "QJsjVoAmCSbu"
      },
      "source": [
        "Importing Libaries"
      ]
    },
    {
      "cell_type": "code",
      "execution_count": 2,
      "metadata": {
        "id": "pBHn2YQc-NJJ"
      },
      "outputs": [],
      "source": [
        "import numpy as np\n",
        "import pandas as pd\n",
        "import matplotlib.pyplot as plt\n",
        "import seaborn as sns\n",
        "from sklearn.model_selection import train_test_split\n",
        "from sklearn.ensemble import RandomForestRegressor\n",
        "from sklearn import metrics"
      ]
    },
    {
      "attachments": {},
      "cell_type": "markdown",
      "metadata": {
        "id": "h1-MD_yoChST"
      },
      "source": [
        "Data Collection and Processing"
      ]
    },
    {
      "cell_type": "code",
      "execution_count": 4,
      "metadata": {
        "id": "y6Ej_2RACjrq"
      },
      "outputs": [],
      "source": [
        "# Loading data from a csv\n",
        "usd_pkr = pd.read_csv('Datasets/PKR _ US$ Exchange Rates.csv')\n",
        "petrol_price = pd.read_csv('Datasets/Petrol Price.csv')"
      ]
    },
    {
      "cell_type": "code",
      "execution_count": 5,
      "metadata": {
        "colab": {
          "base_uri": "https://localhost:8080/",
          "height": 206
        },
        "id": "n07RyId0NPoQ",
        "outputId": "b9ffb8cf-88fc-4a76-cf56-9761ab606a06"
      },
      "outputs": [
        {
          "data": {
            "text/html": [
              "<div>\n",
              "<style scoped>\n",
              "    .dataframe tbody tr th:only-of-type {\n",
              "        vertical-align: middle;\n",
              "    }\n",
              "\n",
              "    .dataframe tbody tr th {\n",
              "        vertical-align: top;\n",
              "    }\n",
              "\n",
              "    .dataframe thead th {\n",
              "        text-align: right;\n",
              "    }\n",
              "</style>\n",
              "<table border=\"1\" class=\"dataframe\">\n",
              "  <thead>\n",
              "    <tr style=\"text-align: right;\">\n",
              "      <th></th>\n",
              "      <th>Weekly</th>\n",
              "      <th>Islamabad</th>\n",
              "      <th>Rawalpindi</th>\n",
              "      <th>Gujranwala</th>\n",
              "      <th>Sialkot</th>\n",
              "      <th>Lahore</th>\n",
              "      <th>Faisalabad</th>\n",
              "      <th>Sargodha</th>\n",
              "      <th>Multan</th>\n",
              "      <th>Bahawalpur</th>\n",
              "      <th>Karachi</th>\n",
              "      <th>Hyderabad</th>\n",
              "      <th>Sukkur</th>\n",
              "      <th>Larkana</th>\n",
              "      <th>Peshawar</th>\n",
              "      <th>Bannu</th>\n",
              "      <th>Quetta</th>\n",
              "      <th>Khuzdar</th>\n",
              "      <th>Pakistan</th>\n",
              "    </tr>\n",
              "  </thead>\n",
              "  <tbody>\n",
              "    <tr>\n",
              "      <th>0</th>\n",
              "      <td>26-Jul-2023</td>\n",
              "      <td>253.73</td>\n",
              "      <td>253.73</td>\n",
              "      <td>253.8</td>\n",
              "      <td>253.91</td>\n",
              "      <td>253.74</td>\n",
              "      <td>253.7</td>\n",
              "      <td>253.98</td>\n",
              "      <td>253.76</td>\n",
              "      <td>254.25</td>\n",
              "      <td>253.74</td>\n",
              "      <td>254.88</td>\n",
              "      <td>253.8</td>\n",
              "      <td>254.03</td>\n",
              "      <td>253.80</td>\n",
              "      <td>255.2</td>\n",
              "      <td>253.6</td>\n",
              "      <td>253.75</td>\n",
              "      <td>253.96</td>\n",
              "    </tr>\n",
              "    <tr>\n",
              "      <th>1</th>\n",
              "      <td>20-Jul-2023</td>\n",
              "      <td>253.73</td>\n",
              "      <td>253.73</td>\n",
              "      <td>253.8</td>\n",
              "      <td>253.91</td>\n",
              "      <td>253.74</td>\n",
              "      <td>253.7</td>\n",
              "      <td>253.98</td>\n",
              "      <td>253.76</td>\n",
              "      <td>254.25</td>\n",
              "      <td>253.74</td>\n",
              "      <td>254.88</td>\n",
              "      <td>253.8</td>\n",
              "      <td>254.03</td>\n",
              "      <td>253.80</td>\n",
              "      <td>255.2</td>\n",
              "      <td>253.6</td>\n",
              "      <td>253.75</td>\n",
              "      <td>253.96</td>\n",
              "    </tr>\n",
              "    <tr>\n",
              "      <th>2</th>\n",
              "      <td>13-Jul-2023</td>\n",
              "      <td>262.75</td>\n",
              "      <td>262.76</td>\n",
              "      <td>262.8</td>\n",
              "      <td>262.90</td>\n",
              "      <td>262.78</td>\n",
              "      <td>262.7</td>\n",
              "      <td>262.98</td>\n",
              "      <td>262.79</td>\n",
              "      <td>263.23</td>\n",
              "      <td>262.74</td>\n",
              "      <td>263.87</td>\n",
              "      <td>262.8</td>\n",
              "      <td>263.10</td>\n",
              "      <td>262.75</td>\n",
              "      <td>262.8</td>\n",
              "      <td>262.6</td>\n",
              "      <td>262.79</td>\n",
              "      <td>262.89</td>\n",
              "    </tr>\n",
              "    <tr>\n",
              "      <th>3</th>\n",
              "      <td>06-Jul-2023</td>\n",
              "      <td>262.75</td>\n",
              "      <td>262.76</td>\n",
              "      <td>262.8</td>\n",
              "      <td>262.90</td>\n",
              "      <td>262.78</td>\n",
              "      <td>262.7</td>\n",
              "      <td>262.98</td>\n",
              "      <td>262.79</td>\n",
              "      <td>263.23</td>\n",
              "      <td>262.74</td>\n",
              "      <td>263.87</td>\n",
              "      <td>262.8</td>\n",
              "      <td>263.10</td>\n",
              "      <td>262.75</td>\n",
              "      <td>262.8</td>\n",
              "      <td>262.6</td>\n",
              "      <td>262.79</td>\n",
              "      <td>262.89</td>\n",
              "    </tr>\n",
              "    <tr>\n",
              "      <th>4</th>\n",
              "      <td>22-Jun-2023</td>\n",
              "      <td>262.75</td>\n",
              "      <td>262.76</td>\n",
              "      <td>262.8</td>\n",
              "      <td>262.90</td>\n",
              "      <td>262.78</td>\n",
              "      <td>262.7</td>\n",
              "      <td>262.98</td>\n",
              "      <td>262.79</td>\n",
              "      <td>263.23</td>\n",
              "      <td>262.74</td>\n",
              "      <td>263.87</td>\n",
              "      <td>262.8</td>\n",
              "      <td>263.10</td>\n",
              "      <td>262.75</td>\n",
              "      <td>262.8</td>\n",
              "      <td>262.6</td>\n",
              "      <td>262.79</td>\n",
              "      <td>262.89</td>\n",
              "    </tr>\n",
              "  </tbody>\n",
              "</table>\n",
              "</div>"
            ],
            "text/plain": [
              "        Weekly  Islamabad  Rawalpindi  Gujranwala  Sialkot  Lahore  \\\n",
              "0  26-Jul-2023     253.73      253.73       253.8   253.91  253.74   \n",
              "1  20-Jul-2023     253.73      253.73       253.8   253.91  253.74   \n",
              "2  13-Jul-2023     262.75      262.76       262.8   262.90  262.78   \n",
              "3  06-Jul-2023     262.75      262.76       262.8   262.90  262.78   \n",
              "4  22-Jun-2023     262.75      262.76       262.8   262.90  262.78   \n",
              "\n",
              "   Faisalabad  Sargodha  Multan  Bahawalpur  Karachi  Hyderabad  Sukkur  \\\n",
              "0       253.7    253.98  253.76      254.25   253.74     254.88   253.8   \n",
              "1       253.7    253.98  253.76      254.25   253.74     254.88   253.8   \n",
              "2       262.7    262.98  262.79      263.23   262.74     263.87   262.8   \n",
              "3       262.7    262.98  262.79      263.23   262.74     263.87   262.8   \n",
              "4       262.7    262.98  262.79      263.23   262.74     263.87   262.8   \n",
              "\n",
              "   Larkana  Peshawar  Bannu  Quetta  Khuzdar  Pakistan  \n",
              "0   254.03    253.80  255.2   253.6   253.75    253.96  \n",
              "1   254.03    253.80  255.2   253.6   253.75    253.96  \n",
              "2   263.10    262.75  262.8   262.6   262.79    262.89  \n",
              "3   263.10    262.75  262.8   262.6   262.79    262.89  \n",
              "4   263.10    262.75  262.8   262.6   262.79    262.89  "
            ]
          },
          "execution_count": 5,
          "metadata": {},
          "output_type": "execute_result"
        }
      ],
      "source": [
        "# Petrol Price\n",
        "petrol_price.head()"
      ]
    },
    {
      "cell_type": "code",
      "execution_count": 6,
      "metadata": {
        "colab": {
          "base_uri": "https://localhost:8080/",
          "height": 206
        },
        "id": "DDMO_qPsNW03",
        "outputId": "b8193d41-10a7-45a0-a193-c7bcd274c5ba"
      },
      "outputs": [
        {
          "data": {
            "text/html": [
              "<div>\n",
              "<style scoped>\n",
              "    .dataframe tbody tr th:only-of-type {\n",
              "        vertical-align: middle;\n",
              "    }\n",
              "\n",
              "    .dataframe tbody tr th {\n",
              "        vertical-align: top;\n",
              "    }\n",
              "\n",
              "    .dataframe thead th {\n",
              "        text-align: right;\n",
              "    }\n",
              "</style>\n",
              "<table border=\"1\" class=\"dataframe\">\n",
              "  <thead>\n",
              "    <tr style=\"text-align: right;\">\n",
              "      <th></th>\n",
              "      <th>Date</th>\n",
              "      <th>US$</th>\n",
              "    </tr>\n",
              "  </thead>\n",
              "  <tbody>\n",
              "    <tr>\n",
              "      <th>0</th>\n",
              "      <td>03-Aug-2023</td>\n",
              "      <td>287.2019</td>\n",
              "    </tr>\n",
              "    <tr>\n",
              "      <th>1</th>\n",
              "      <td>02-Aug-2023</td>\n",
              "      <td>289.3818</td>\n",
              "    </tr>\n",
              "    <tr>\n",
              "      <th>2</th>\n",
              "      <td>01-Aug-2023</td>\n",
              "      <td>287.5424</td>\n",
              "    </tr>\n",
              "    <tr>\n",
              "      <th>3</th>\n",
              "      <td>31-Jul-2023</td>\n",
              "      <td>286.6416</td>\n",
              "    </tr>\n",
              "    <tr>\n",
              "      <th>4</th>\n",
              "      <td>27-Jul-2023</td>\n",
              "      <td>286.4521</td>\n",
              "    </tr>\n",
              "  </tbody>\n",
              "</table>\n",
              "</div>"
            ],
            "text/plain": [
              "          Date      US$ \n",
              "0  03-Aug-2023  287.2019\n",
              "1  02-Aug-2023  289.3818\n",
              "2  01-Aug-2023  287.5424\n",
              "3  31-Jul-2023  286.6416\n",
              "4  27-Jul-2023  286.4521"
            ]
          },
          "execution_count": 6,
          "metadata": {},
          "output_type": "execute_result"
        }
      ],
      "source": [
        "# USD - PKR\n",
        "usd_pkr.head()"
      ]
    },
    {
      "cell_type": "code",
      "execution_count": 7,
      "metadata": {
        "colab": {
          "base_uri": "https://localhost:8080/"
        },
        "id": "mq8VtDN8NoDe",
        "outputId": "c8189361-1d32-4da7-eecc-a6a6a706e9ef"
      },
      "outputs": [
        {
          "name": "stderr",
          "output_type": "stream",
          "text": [
            "C:\\Users\\Hp\\AppData\\Local\\Temp\\ipykernel_6160\\507822239.py:7: SettingWithCopyWarning: \n",
            "A value is trying to be set on a copy of a slice from a DataFrame\n",
            "\n",
            "See the caveats in the documentation: https://pandas.pydata.org/pandas-docs/stable/user_guide/indexing.html#returning-a-view-versus-a-copy\n",
            "  usd_pkr['Petrol_Price'][:3] = 273.95\n"
          ]
        }
      ],
      "source": [
        "# Merging datasets with required values\n",
        "# Fixing the date problem\n",
        "usd_pkr[\"Date\"] = pd.to_datetime(usd_pkr['Date'])\n",
        "petrol_price['Weekly'] = pd.to_datetime(petrol_price['Weekly'])\n",
        "\n",
        "usd_pkr[\"Petrol_Price\"] = usd_pkr[\"Date\"].apply(lambda date: petrol_price.loc[petrol_price[\"Weekly\"].sub(date).abs().idxmin(), \"Karachi\"])\n",
        "usd_pkr['Petrol_Price'][:3] = 273.95\n",
        "\n",
        "petrol_price_pred = pd.DataFrame(usd_pkr)"
      ]
    },
    {
      "cell_type": "code",
      "execution_count": 8,
      "metadata": {
        "colab": {
          "base_uri": "https://localhost:8080/",
          "height": 206
        },
        "id": "Yy4KSrfWVsHq",
        "outputId": "7d88ae43-8ec8-49ec-9745-12ed231e38f4"
      },
      "outputs": [
        {
          "data": {
            "text/html": [
              "<div>\n",
              "<style scoped>\n",
              "    .dataframe tbody tr th:only-of-type {\n",
              "        vertical-align: middle;\n",
              "    }\n",
              "\n",
              "    .dataframe tbody tr th {\n",
              "        vertical-align: top;\n",
              "    }\n",
              "\n",
              "    .dataframe thead th {\n",
              "        text-align: right;\n",
              "    }\n",
              "</style>\n",
              "<table border=\"1\" class=\"dataframe\">\n",
              "  <thead>\n",
              "    <tr style=\"text-align: right;\">\n",
              "      <th></th>\n",
              "      <th>Date</th>\n",
              "      <th>US$</th>\n",
              "      <th>Petrol_Price</th>\n",
              "    </tr>\n",
              "  </thead>\n",
              "  <tbody>\n",
              "    <tr>\n",
              "      <th>0</th>\n",
              "      <td>2023-08-03</td>\n",
              "      <td>287.2019</td>\n",
              "      <td>273.95</td>\n",
              "    </tr>\n",
              "    <tr>\n",
              "      <th>1</th>\n",
              "      <td>2023-08-02</td>\n",
              "      <td>289.3818</td>\n",
              "      <td>273.95</td>\n",
              "    </tr>\n",
              "    <tr>\n",
              "      <th>2</th>\n",
              "      <td>2023-08-01</td>\n",
              "      <td>287.5424</td>\n",
              "      <td>273.95</td>\n",
              "    </tr>\n",
              "    <tr>\n",
              "      <th>3</th>\n",
              "      <td>2023-07-31</td>\n",
              "      <td>286.6416</td>\n",
              "      <td>253.74</td>\n",
              "    </tr>\n",
              "    <tr>\n",
              "      <th>4</th>\n",
              "      <td>2023-07-27</td>\n",
              "      <td>286.4521</td>\n",
              "      <td>253.74</td>\n",
              "    </tr>\n",
              "  </tbody>\n",
              "</table>\n",
              "</div>"
            ],
            "text/plain": [
              "        Date      US$   Petrol_Price\n",
              "0 2023-08-03  287.2019        273.95\n",
              "1 2023-08-02  289.3818        273.95\n",
              "2 2023-08-01  287.5424        273.95\n",
              "3 2023-07-31  286.6416        253.74\n",
              "4 2023-07-27  286.4521        253.74"
            ]
          },
          "execution_count": 8,
          "metadata": {},
          "output_type": "execute_result"
        }
      ],
      "source": [
        "# Merged Data Frame\n",
        "petrol_price_pred.head()"
      ]
    },
    {
      "cell_type": "code",
      "execution_count": 9,
      "metadata": {
        "colab": {
          "base_uri": "https://localhost:8080/"
        },
        "id": "2mJTRBm7Go-1",
        "outputId": "48e683c5-63ed-42fe-ae6e-52a163b70ddc"
      },
      "outputs": [
        {
          "name": "stdout",
          "output_type": "stream",
          "text": [
            "<class 'pandas.core.frame.DataFrame'>\n",
            "RangeIndex: 1979 entries, 0 to 1978\n",
            "Data columns (total 3 columns):\n",
            " #   Column        Non-Null Count  Dtype         \n",
            "---  ------        --------------  -----         \n",
            " 0   Date          1979 non-null   datetime64[ns]\n",
            " 1   US$           1979 non-null   float64       \n",
            " 2   Petrol_Price  1979 non-null   float64       \n",
            "dtypes: datetime64[ns](1), float64(2)\n",
            "memory usage: 46.5 KB\n"
          ]
        }
      ],
      "source": [
        "# Checking the info\n",
        "petrol_price_pred.info()"
      ]
    },
    {
      "cell_type": "code",
      "execution_count": 63,
      "metadata": {
        "colab": {
          "base_uri": "https://localhost:8080/"
        },
        "id": "8d5W70lsJkU8",
        "outputId": "525ffab7-dfb6-4286-aaaa-9ce631cf0776"
      },
      "outputs": [
        {
          "data": {
            "text/plain": [
              "Date            0\n",
              "US$             0\n",
              "Petrol_Price    0\n",
              "dtype: int64"
            ]
          },
          "execution_count": 63,
          "metadata": {},
          "output_type": "execute_result"
        }
      ],
      "source": [
        "# Checking missing values\n",
        "petrol_price_pred.isnull().sum()"
      ]
    },
    {
      "cell_type": "code",
      "execution_count": 10,
      "metadata": {
        "colab": {
          "base_uri": "https://localhost:8080/",
          "height": 300
        },
        "id": "OWSAEc1gJqGy",
        "outputId": "403f0799-c83d-4685-c6be-03d52597a2a6"
      },
      "outputs": [
        {
          "data": {
            "text/html": [
              "<div>\n",
              "<style scoped>\n",
              "    .dataframe tbody tr th:only-of-type {\n",
              "        vertical-align: middle;\n",
              "    }\n",
              "\n",
              "    .dataframe tbody tr th {\n",
              "        vertical-align: top;\n",
              "    }\n",
              "\n",
              "    .dataframe thead th {\n",
              "        text-align: right;\n",
              "    }\n",
              "</style>\n",
              "<table border=\"1\" class=\"dataframe\">\n",
              "  <thead>\n",
              "    <tr style=\"text-align: right;\">\n",
              "      <th></th>\n",
              "      <th>US$</th>\n",
              "      <th>Petrol_Price</th>\n",
              "    </tr>\n",
              "  </thead>\n",
              "  <tbody>\n",
              "    <tr>\n",
              "      <th>count</th>\n",
              "      <td>1979.000000</td>\n",
              "      <td>1979.000000</td>\n",
              "    </tr>\n",
              "    <tr>\n",
              "      <th>mean</th>\n",
              "      <td>151.339956</td>\n",
              "      <td>116.960045</td>\n",
              "    </tr>\n",
              "    <tr>\n",
              "      <th>std</th>\n",
              "      <td>48.684358</td>\n",
              "      <td>57.800388</td>\n",
              "    </tr>\n",
              "    <tr>\n",
              "      <th>min</th>\n",
              "      <td>101.702500</td>\n",
              "      <td>64.480000</td>\n",
              "    </tr>\n",
              "    <tr>\n",
              "      <th>25%</th>\n",
              "      <td>105.397800</td>\n",
              "      <td>74.940000</td>\n",
              "    </tr>\n",
              "    <tr>\n",
              "      <th>50%</th>\n",
              "      <td>153.331800</td>\n",
              "      <td>99.360000</td>\n",
              "    </tr>\n",
              "    <tr>\n",
              "      <th>75%</th>\n",
              "      <td>167.347050</td>\n",
              "      <td>118.590000</td>\n",
              "    </tr>\n",
              "    <tr>\n",
              "      <th>max</th>\n",
              "      <td>298.931800</td>\n",
              "      <td>282.790000</td>\n",
              "    </tr>\n",
              "  </tbody>\n",
              "</table>\n",
              "</div>"
            ],
            "text/plain": [
              "              US$   Petrol_Price\n",
              "count  1979.000000   1979.000000\n",
              "mean    151.339956    116.960045\n",
              "std      48.684358     57.800388\n",
              "min     101.702500     64.480000\n",
              "25%     105.397800     74.940000\n",
              "50%     153.331800     99.360000\n",
              "75%     167.347050    118.590000\n",
              "max     298.931800    282.790000"
            ]
          },
          "execution_count": 10,
          "metadata": {},
          "output_type": "execute_result"
        }
      ],
      "source": [
        "# Checking the statistics\n",
        "petrol_price_pred.describe()"
      ]
    },
    {
      "attachments": {},
      "cell_type": "markdown",
      "metadata": {
        "id": "XNq2_qGDKKxF"
      },
      "source": [
        "Correlation\n",
        "\n",
        "1.   Positive Correlation\n",
        "2.   Negative Correlation\n",
        "\n"
      ]
    },
    {
      "cell_type": "code",
      "execution_count": 11,
      "metadata": {
        "colab": {
          "base_uri": "https://localhost:8080/",
          "height": 730
        },
        "id": "yN1lFaEyJ_Wi",
        "outputId": "5e17a51d-2828-4d34-b4e8-56639c5fd713"
      },
      "outputs": [
        {
          "data": {
            "text/plain": [
              "<AxesSubplot:>"
            ]
          },
          "execution_count": 11,
          "metadata": {},
          "output_type": "execute_result"
        },
        {
          "data": {
            "image/png": "[encoded data removed]",
            "text/plain": [
              "<Figure size 800x800 with 2 Axes>"
            ]
          },
          "metadata": {},
          "output_type": "display_data"
        }
      ],
      "source": [
        "# Finding the correlation\n",
        "correlation = petrol_price_pred.corr()\n",
        "\n",
        "# constructing heatmap\n",
        "plt.figure(figsize = (8,8))\n",
        "sns.heatmap(correlation, cbar=True, square=True, fmt='.1f', annot=True, annot_kws={'size':8}, cmap='Reds')"
      ]
    },
    {
      "cell_type": "code",
      "execution_count": 12,
      "metadata": {
        "colab": {
          "base_uri": "https://localhost:8080/"
        },
        "id": "yCC3TUC1LYCu",
        "outputId": "c300700e-38ec-4cbd-cf8c-984a7609192e"
      },
      "outputs": [
        {
          "name": "stdout",
          "output_type": "stream",
          "text": [
            "US$             0.955785\n",
            "Petrol_Price    1.000000\n",
            "Name: Petrol_Price, dtype: float64\n"
          ]
        }
      ],
      "source": [
        "# Correlation Values of Petrol\n",
        "print(correlation['Petrol_Price'])"
      ]
    },
    {
      "cell_type": "code",
      "execution_count": 20,
      "metadata": {
        "colab": {
          "base_uri": "https://localhost:8080/",
          "height": 658
        },
        "id": "nvI4v3jsWzFM",
        "outputId": "d6b7cf05-d6f9-4ced-9a70-f5616a4c2fed"
      },
      "outputs": [
        {
          "name": "stderr",
          "output_type": "stream",
          "text": [
            "C:\\Users\\Hp\\AppData\\Local\\Temp\\ipykernel_6160\\2192971558.py:2: UserWarning: \n",
            "\n",
            "`distplot` is a deprecated function and will be removed in seaborn v0.14.0.\n",
            "\n",
            "Please adapt your code to use either `displot` (a figure-level function with\n",
            "similar flexibility) or `histplot` (an axes-level function for histograms).\n",
            "\n",
            "For a guide to updating your code to use the new functions, please see\n",
            "https://gist.github.com/mwaskom/de44147ed2974457ad6372750bbe5751\n",
            "\n",
            "  sns.distplot(petrol_price_pred['Petrol_Price'], color='Red')\n"
          ]
        },
        {
          "data": {
            "text/plain": [
              "<AxesSubplot:xlabel='Petrol_Price', ylabel='Density'>"
            ]
          },
          "execution_count": 20,
          "metadata": {},
          "output_type": "execute_result"
        },
        {
          "data": {
            "image/png": "[encoded data removed]",
            "text/plain": [
              "<Figure size 640x480 with 1 Axes>"
            ]
          },
          "metadata": {},
          "output_type": "display_data"
        }
      ],
      "source": [
        "# Checking the distribution\n",
        "sns.distplot(petrol_price_pred['Petrol_Price'], color='Red')"
      ]
    },
    {
      "attachments": {},
      "cell_type": "markdown",
      "metadata": {
        "id": "cpXWS2uNaGwt"
      },
      "source": [
        "Splitting the Features and Targets"
      ]
    },
    {
      "cell_type": "code",
      "execution_count": 13,
      "metadata": {
        "colab": {
          "base_uri": "https://localhost:8080/"
        },
        "id": "ZR06xzdFXJNa",
        "outputId": "09d2eb2d-1b32-40b1-b6ff-0abe7cf66289"
      },
      "outputs": [
        {
          "name": "stdout",
          "output_type": "stream",
          "text": [
            "          US$ \n",
            "0     287.2019\n",
            "1     289.3818\n",
            "2     287.5424\n",
            "3     286.6416\n",
            "4     286.4521\n",
            "...        ...\n",
            "1974  101.7589\n",
            "1975  101.7809\n",
            "1976  101.7910\n",
            "1977  101.7474\n",
            "1978  101.7587\n",
            "\n",
            "[1979 rows x 1 columns] 0       273.95\n",
            "1       273.95\n",
            "2       273.95\n",
            "3       253.74\n",
            "4       253.74\n",
            "         ...  \n",
            "1974     78.06\n",
            "1975     78.06\n",
            "1976     78.06\n",
            "1977     78.06\n",
            "1978     78.06\n",
            "Name: Petrol_Price, Length: 1979, dtype: float64\n"
          ]
        }
      ],
      "source": [
        "X = petrol_price_pred.drop(['Date', 'Petrol_Price'], axis=1)\n",
        "Y = petrol_price_pred['Petrol_Price']\n",
        "\n",
        "print(X, Y)"
      ]
    },
    {
      "attachments": {},
      "cell_type": "markdown",
      "metadata": {
        "id": "c0Ko3XWJHbEf"
      },
      "source": [
        "Splitting into training and test data"
      ]
    },
    {
      "cell_type": "code",
      "execution_count": 14,
      "metadata": {
        "colab": {
          "base_uri": "https://localhost:8080/",
          "height": 75
        },
        "id": "3IOzc_Kvaznd",
        "outputId": "1f8a7a4e-20e3-490c-e8fe-d238d6c637b6"
      },
      "outputs": [
        {
          "data": {
            "text/html": [
              "<style>#sk-container-id-1 {color: black;background-color: white;}#sk-container-id-1 pre{padding: 0;}#sk-container-id-1 div.sk-toggleable {background-color: white;}#sk-container-id-1 label.sk-toggleable__label {cursor: pointer;display: block;width: 100%;margin-bottom: 0;padding: 0.3em;box-sizing: border-box;text-align: center;}#sk-container-id-1 label.sk-toggleable__label-arrow:before {content: \"▸\";float: left;margin-right: 0.25em;color: #696969;}#sk-container-id-1 label.sk-toggleable__label-arrow:hover:before {color: black;}#sk-container-id-1 div.sk-estimator:hover label.sk-toggleable__label-arrow:before {color: black;}#sk-container-id-1 div.sk-toggleable__content {max-height: 0;max-width: 0;overflow: hidden;text-align: left;background-color: #f0f8ff;}#sk-container-id-1 div.sk-toggleable__content pre {margin: 0.2em;color: black;border-radius: 0.25em;background-color: #f0f8ff;}#sk-container-id-1 input.sk-toggleable__control:checked~div.sk-toggleable__content {max-height: 200px;max-width: 100%;overflow: auto;}#sk-container-id-1 input.sk-toggleable__control:checked~label.sk-toggleable__label-arrow:before {content: \"▾\";}#sk-container-id-1 div.sk-estimator input.sk-toggleable__control:checked~label.sk-toggleable__label {background-color: #d4ebff;}#sk-container-id-1 div.sk-label input.sk-toggleable__control:checked~label.sk-toggleable__label {background-color: #d4ebff;}#sk-container-id-1 input.sk-hidden--visually {border: 0;clip: rect(1px 1px 1px 1px);clip: rect(1px, 1px, 1px, 1px);height: 1px;margin: -1px;overflow: hidden;padding: 0;position: absolute;width: 1px;}#sk-container-id-1 div.sk-estimator {font-family: monospace;background-color: #f0f8ff;border: 1px dotted black;border-radius: 0.25em;box-sizing: border-box;margin-bottom: 0.5em;}#sk-container-id-1 div.sk-estimator:hover {background-color: #d4ebff;}#sk-container-id-1 div.sk-parallel-item::after {content: \"\";width: 100%;border-bottom: 1px solid gray;flex-grow: 1;}#sk-container-id-1 div.sk-label:hover label.sk-toggleable__label {background-color: #d4ebff;}#sk-container-id-1 div.sk-serial::before {content: \"\";position: absolute;border-left: 1px solid gray;box-sizing: border-box;top: 0;bottom: 0;left: 50%;z-index: 0;}#sk-container-id-1 div.sk-serial {display: flex;flex-direction: column;align-items: center;background-color: white;padding-right: 0.2em;padding-left: 0.2em;position: relative;}#sk-container-id-1 div.sk-item {position: relative;z-index: 1;}#sk-container-id-1 div.sk-parallel {display: flex;align-items: stretch;justify-content: center;background-color: white;position: relative;}#sk-container-id-1 div.sk-item::before, #sk-container-id-1 div.sk-parallel-item::before {content: \"\";position: absolute;border-left: 1px solid gray;box-sizing: border-box;top: 0;bottom: 0;left: 50%;z-index: -1;}#sk-container-id-1 div.sk-parallel-item {display: flex;flex-direction: column;z-index: 1;position: relative;background-color: white;}#sk-container-id-1 div.sk-parallel-item:first-child::after {align-self: flex-end;width: 50%;}#sk-container-id-1 div.sk-parallel-item:last-child::after {align-self: flex-start;width: 50%;}#sk-container-id-1 div.sk-parallel-item:only-child::after {width: 0;}#sk-container-id-1 div.sk-dashed-wrapped {border: 1px dashed gray;margin: 0 0.4em 0.5em 0.4em;box-sizing: border-box;padding-bottom: 0.4em;background-color: white;}#sk-container-id-1 div.sk-label label {font-family: monospace;font-weight: bold;display: inline-block;line-height: 1.2em;}#sk-container-id-1 div.sk-label-container {text-align: center;}#sk-container-id-1 div.sk-container {/* jupyter's `normalize.less` sets `[hidden] { display: none; }` but bootstrap.min.css set `[hidden] { display: none !important; }` so we also need the `!important` here to be able to override the default hidden behavior on the sphinx rendered scikit-learn.org. See: https://github.com/scikit-learn/scikit-learn/issues/21755 */display: inline-block !important;position: relative;}#sk-container-id-1 div.sk-text-repr-fallback {display: none;}</style><div id=\"sk-container-id-1\" class=\"sk-top-container\"><div class=\"sk-text-repr-fallback\"><pre>RandomForestRegressor()</pre><b>In a Jupyter environment, please rerun this cell to show the HTML representation or trust the notebook. <br />On GitHub, the HTML representation is unable to render, please try loading this page with nbviewer.org.</b></div><div class=\"sk-container\" hidden><div class=\"sk-item\"><div class=\"sk-estimator sk-toggleable\"><input class=\"sk-toggleable__control sk-hidden--visually\" id=\"sk-estimator-id-1\" type=\"checkbox\" checked><label for=\"sk-estimator-id-1\" class=\"sk-toggleable__label sk-toggleable__label-arrow\">RandomForestRegressor</label><div class=\"sk-toggleable__content\"><pre>RandomForestRegressor()</pre></div></div></div></div></div>"
            ],
            "text/plain": [
              "RandomForestRegressor()"
            ]
          },
          "execution_count": 14,
          "metadata": {},
          "output_type": "execute_result"
        }
      ],
      "source": [
        "# Training Data\n",
        "X_train, X_test, Y_train, Y_test = train_test_split(X, Y, test_size=0.2, random_state=2)\n",
        "\n",
        "# Model Training\n",
        "regressor = RandomForestRegressor(n_estimators=100)\n",
        "regressor.fit(X_train, Y_train)"
      ]
    },
    {
      "attachments": {},
      "cell_type": "markdown",
      "metadata": {
        "id": "sQeuZiV_I3V6"
      },
      "source": [
        "Model Evaluation"
      ]
    },
    {
      "cell_type": "code",
      "execution_count": 15,
      "metadata": {
        "colab": {
          "base_uri": "https://localhost:8080/"
        },
        "id": "8nSaPrcGIFBs",
        "outputId": "ac5db193-9c70-4e8d-c718-5e658f166ab7"
      },
      "outputs": [
        {
          "data": {
            "text/plain": [
              "array([ 71.4404    , 116.2226    ,  66.1038    , 113.76      ,\n",
              "       115.2654    , 110.6473    ,  88.4243    , 113.4287    ,\n",
              "        76.4211    ,  71.59      ,  98.887     , 123.4036    ,\n",
              "        66.6686    ,  70.2807    , 115.1525    , 108.519     ,\n",
              "        72.706     ,  74.6909    ,  74.7705    , 113.2871    ,\n",
              "        76.50350833,  99.7044    , 154.715     , 115.551     ,\n",
              "        70.05796697,  76.1071    , 110.2064    ,  87.17488   ,\n",
              "        76.44136548,  76.3399    , 111.7454    ,  65.54723667,\n",
              "        93.4628    ,  77.44833333,  91.7942    , 116.327     ,\n",
              "       150.36      ,  99.836     , 109.0821    ,  93.146     ,\n",
              "        77.89      , 272.75      ,  73.3143    ,  94.3634    ,\n",
              "        71.3       , 112.489     ,  87.6508    , 112.2485    ,\n",
              "        71.4872    , 270.5196    , 127.9351    ,  95.68      ,\n",
              "        76.58913333,  72.0449    ,  70.6772    , 272.75      ,\n",
              "        84.6916    ,  72.9573    , 100.0003    , 103.6824    ,\n",
              "        87.993     , 112.9661    ,  88.14      , 141.8179    ,\n",
              "        74.04      , 239.0883    ,  70.2009    ,  64.75063333,\n",
              "       148.39      ,  72.57      ,  72.55865   ,  82.3076    ,\n",
              "       149.8322    , 156.1053    ,  70.7032    , 113.76      ,\n",
              "        65.186     , 222.4316    ,  82.05529333,  64.5506    ,\n",
              "       103.2194    ,  66.4066    ,  69.59600476,  87.7536    ,\n",
              "       122.824     , 232.4724    , 277.0095    , 146.8454    ,\n",
              "       147.876     ,  74.8748    ,  99.6822    ,  74.04      ,\n",
              "       102.9547    ,  84.88232   , 226.2372    , 115.3456    ,\n",
              "        95.68      ,  77.3766    ,  68.3812    ,  95.9166    ,\n",
              "        88.14      ,  70.5444    , 110.7971    , 104.4412    ,\n",
              "       265.477     ,  67.1194    ,  72.6467    , 222.4912    ,\n",
              "       251.5627    , 234.258     ,  74.34      ,  72.3511    ,\n",
              "       123.4036    , 116.202     , 117.11      , 111.601     ,\n",
              "        66.3862    ,  77.1216    , 113.76      ,  71.462     ,\n",
              "        77.89      , 106.8946    ,  93.8341    , 114.2846    ,\n",
              "        68.3464    ,  70.7032    ,  97.5823    , 129.9224    ,\n",
              "        93.3182    ,  87.3182    , 103.027     , 117.11      ,\n",
              "       116.7593    ,  77.458     ,  76.4211    , 238.6404    ,\n",
              "       109.0821    , 225.5732    ,  70.73098571, 103.9211    ,\n",
              "       105.3545    , 112.548     ,  92.6828    ,  88.14      ,\n",
              "       112.8137    , 228.134     , 112.681     , 147.537     ,\n",
              "        71.82      ,  72.57      ,  66.2008    ,  93.3182    ,\n",
              "       114.5436    ,  77.44833333,  98.24      , 116.3531    ,\n",
              "       104.9449    ,  66.1038    , 234.2495    ,  82.7844    ,\n",
              "       115.1525    ,  71.14808571, 100.0264    ,  95.68      ,\n",
              "        88.4026    , 111.9188    , 226.9124    ,  69.986     ,\n",
              "        72.14      , 113.3546    ,  76.1255    ,  74.2093    ,\n",
              "        64.75651667,  74.04      , 109.2332    ,  73.2396    ,\n",
              "       150.36      , 103.6314    ,  94.47901667,  68.3812    ,\n",
              "        69.79853333, 272.1052    ,  93.2941    , 225.55      ,\n",
              "       225.55      , 102.6871    , 109.4122    , 276.138     ,\n",
              "       104.6086    , 113.0905    ,  68.9984    , 220.0164    ,\n",
              "        73.9444    ,  65.908     , 142.1712    ,  64.6212    ,\n",
              "        93.6179    , 238.0432    , 106.5894    ,  67.7148    ,\n",
              "       159.6052    , 113.771     , 146.3609    , 250.945     ,\n",
              "       104.2042    ,  83.23587   , 114.3531    , 104.906     ,\n",
              "       108.4275    , 104.4914    ,  72.19214286, 102.5488    ,\n",
              "        95.68      , 149.1591    ,  72.9646    , 225.5964    ,\n",
              "       258.8232    , 113.6076    , 110.7463    ,  72.706     ,\n",
              "       117.9681    , 244.911     , 117.11      ,  75.3515    ,\n",
              "        64.5506    ,  93.3423    , 150.36      , 226.6372    ,\n",
              "       117.11      ,  69.31498155,  70.0855    ,  75.0958    ,\n",
              "       113.9961    , 225.55      ,  92.597     , 220.0164    ,\n",
              "        64.5505    ,  82.3076    ,  95.4208    , 272.9704    ,\n",
              "        77.2134    ,  95.4208    ,  95.68      , 282.3892    ,\n",
              "       110.9355    ,  86.2546    , 114.261     , 250.945     ,\n",
              "        94.0412    , 274.9954    , 281.3872    ,  68.0798    ,\n",
              "       150.36      ,  71.426     ,  64.6212    , 156.0151    ,\n",
              "        75.6236    ,  74.04      , 270.8658    , 152.1609    ,\n",
              "        69.31498155,  64.55445   , 197.1834    , 117.11      ,\n",
              "       235.2644    , 103.2988    ,  88.4243    , 216.724     ,\n",
              "       225.6776    ,  96.0974    , 110.3801    ,  71.82      ,\n",
              "       270.145     ,  93.2941    ,  69.4322    ,  71.90505   ,\n",
              "        91.5004    , 234.2495    , 263.4421    ,  77.3358    ,\n",
              "        75.0958    ,  76.1071    ,  85.6966    , 270.5196    ,\n",
              "       114.7871    ,  86.183     ,  92.5968    , 108.1528    ,\n",
              "        93.3182    , 149.8322    , 127.79      , 245.2096    ,\n",
              "        74.04      ,  66.1038    , 117.11      , 104.2761    ,\n",
              "       112.4957    ,  64.6918    , 109.269     ,  65.16124857,\n",
              "        92.5426    , 105.0714    , 262.935     , 111.5762    ,\n",
              "       112.109     , 113.0436    ,  83.0011    , 117.11      ,\n",
              "       162.0717    ,  98.1406    , 113.125     ,  65.97163   ,\n",
              "        71.4404    , 265.749     ,  71.59      , 117.11      ,\n",
              "        93.6179    , 105.285     ,  84.8406    ,  72.6038    ,\n",
              "       109.8154    , 116.2332    ,  71.90505   , 102.3193    ,\n",
              "        75.0647    , 231.7989    ,  88.14      , 111.956     ,\n",
              "       103.2968    ,  77.5837    ,  71.4596    ,  73.1796    ,\n",
              "       111.7302    , 113.76      ,  72.14641   , 106.6748    ,\n",
              "        65.9017    , 282.79      , 226.2372    , 277.0095    ,\n",
              "        64.6432    , 114.7871    ,  93.3182    ,  97.4945    ,\n",
              "        72.6545    , 232.3164    , 235.0566    ,  88.331     ,\n",
              "       225.6572    ,  71.20928571,  98.24      ,  64.833     ,\n",
              "        96.044     , 263.9075    , 141.33      ,  88.06132   ,\n",
              "       112.43      , 111.2855    , 113.0194    , 108.88      ,\n",
              "       114.7169    ,  74.545     ,  92.39      , 277.0095    ,\n",
              "        99.7044    , 113.6076    , 225.6776    ,  69.44849   ,\n",
              "        87.78752   , 112.9712    ,  70.2409003 ,  71.4872    ,\n",
              "        76.5371    ,  66.4568    , 109.1827    ,  98.7496    ,\n",
              "       148.5192    , 110.451     , 131.6873    ,  99.4552    ,\n",
              "       112.2105    ,  76.41202714, 116.3531    , 113.0364    ,\n",
              "        74.04      , 146.994     ,  82.05529333,  91.129     ,\n",
              "        70.004     ,  94.55131667,  98.1406    ,  70.67308571,\n",
              "       150.36      , 104.3086    ,  77.1316    ,  70.2807    ])"
            ]
          },
          "execution_count": 15,
          "metadata": {},
          "output_type": "execute_result"
        }
      ],
      "source": [
        "# Prediction on test data\n",
        "test_data_pred = regressor.predict(X_test)\n",
        "test_data_pred"
      ]
    },
    {
      "cell_type": "code",
      "execution_count": 71,
      "metadata": {
        "colab": {
          "base_uri": "https://localhost:8080/"
        },
        "id": "nl0G0RR0I09O",
        "outputId": "a5798b1f-4d03-438e-cba5-881430aaf52d"
      },
      "outputs": [
        {
          "name": "stdout",
          "output_type": "stream",
          "text": [
            "R-squared error:  0.977980926330471\n"
          ]
        }
      ],
      "source": [
        "# R-squared Error\n",
        "error_score = metrics.r2_score(Y_test, test_data_pred)\n",
        "print('R-squared error: ', error_score)"
      ]
    },
    {
      "attachments": {},
      "cell_type": "markdown",
      "metadata": {
        "id": "AyGuakZyKDaC"
      },
      "source": [
        "Comparing the actual values with predicted values in a Plot"
      ]
    },
    {
      "cell_type": "code",
      "execution_count": 16,
      "metadata": {
        "colab": {
          "base_uri": "https://localhost:8080/",
          "height": 472
        },
        "id": "XDW1bWgjJwCJ",
        "outputId": "ab0e6c84-a24c-45fc-8bec-bf666d3fc7d5"
      },
      "outputs": [
        {
          "data": {
            "image/png": "[encoded data removed]",
            "text/plain": [
              "<Figure size 640x480 with 1 Axes>"
            ]
          },
          "metadata": {},
          "output_type": "display_data"
        }
      ],
      "source": [
        "# Converting to a list\n",
        "Y_test = list(Y_test)\n",
        "\n",
        "# Time to plot\n",
        "plt.plot(Y_test, color='Blue', label='Actual Value')\n",
        "plt.plot(test_data_pred, color='Green', label='Predicted Value')\n",
        "plt.title('Acutal Price VS Predicted Price')\n",
        "plt.xlabel('No. of values')\n",
        "plt.ylabel('Petrol Price')\n",
        "plt.legend()\n",
        "plt.show()"
      ]
    },
    {
      "cell_type": "code",
      "execution_count": 72,
      "metadata": {
        "id": "3J1zlc2IKwRi"
      },
      "outputs": [],
      "source": []
    }
  ],
  "metadata": {
    "colab": {
      "provenance": []
    },
    "kernelspec": {
      "display_name": "Python 3",
      "name": "python3"
    },
    "language_info": {
      "codemirror_mode": {
        "name": "ipython",
        "version": 3
      },
      "file_extension": ".py",
      "mimetype": "text/x-python",
      "name": "python",
      "nbconvert_exporter": "python",
      "pygments_lexer": "ipython3",
      "version": "3.10.6"
    }
  },
  "nbformat": 4,
  "nbformat_minor": 0
}
